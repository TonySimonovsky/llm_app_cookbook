{
 "cells": [
  {
   "cell_type": "markdown",
   "id": "bf7e7db9",
   "metadata": {},
   "source": [
    "# Overview\n",
    "\n",
    "**Using LLM to assess user's answers in a way that can easily be integrated into AI app logic.**"
   ]
  },
  {
   "cell_type": "markdown",
   "id": "b12d470b",
   "metadata": {},
   "source": [
    "### <font color='gray'>Loading libraries, making initial settings</font>"
   ]
  },
  {
   "cell_type": "code",
   "execution_count": 1,
   "id": "e6b36c71",
   "metadata": {},
   "outputs": [
    {
     "data": {
      "text/plain": [
       "True"
      ]
     },
     "execution_count": 1,
     "metadata": {},
     "output_type": "execute_result"
    }
   ],
   "source": [
    "import os, sys\n",
    "from dotenv import load_dotenv\n",
    "\n",
    "# Load environment variables from .env file\n",
    "load_dotenv(\"../settings/.env\", override=True)"
   ]
  },
  {
   "cell_type": "code",
   "execution_count": 2,
   "id": "fe710acf",
   "metadata": {},
   "outputs": [],
   "source": [
    "import pydantic\n",
    "import instructor\n",
    "import openai\n",
    "from enum import Enum\n",
    "from typing import Tuple, ForwardRef, List\n",
    "from pydantic import BaseModel, Field\n",
    "\n",
    "# Enables the response_model \n",
    "instructor.patch()"
   ]
  },
  {
   "cell_type": "code",
   "execution_count": 6,
   "id": "ff509f18",
   "metadata": {},
   "outputs": [],
   "source": [
    "import json\n",
    "from IPython.display import display, HTML\n",
    "\n",
    "# A function to output JSON in a readable form\n",
    "def json_pretty_print(json_string):\n",
    "\n",
    "    # Load the JSON string\n",
    "    json_data = json.loads(json_string)\n",
    "\n",
    "    # Convert the JSON data to a pretty-printed string\n",
    "    pretty_json = json.dumps(json_data, indent=4)\n",
    "\n",
    "    # Display the pretty-printed JSON string as preformatted text in HTML\n",
    "    display(HTML(f'<pre>{pretty_json}</pre>'))"
   ]
  },
  {
   "cell_type": "markdown",
   "id": "6f7523e4",
   "metadata": {},
   "source": [
    "# Now let's see how Instructor+Pydantic can help us get predictable data structures as outputs of an LLM"
   ]
  },
  {
   "cell_type": "markdown",
   "id": "75d4c963",
   "metadata": {},
   "source": [
    "Let's ask LLM to assess user's answer to a specific question."
   ]
  },
  {
   "cell_type": "code",
   "execution_count": 8,
   "id": "13e56b55",
   "metadata": {},
   "outputs": [
    {
     "data": {
      "text/html": [
       "<pre>{\n",
       "    \"question\": \"What is the color of an apple?\",\n",
       "    \"answer\": \"Blue\",\n",
       "    \"assessment_status\": \"incorrect\",\n",
       "    \"assessment_comment\": \"The correct color of an apple is usually red or green.\"\n",
       "}</pre>"
      ],
      "text/plain": [
       "<IPython.core.display.HTML object>"
      ]
     },
     "metadata": {},
     "output_type": "display_data"
    },
    {
     "data": {
      "text/html": [
       "<pre>{\n",
       "    \"question\": \"What is the color of an apple?\",\n",
       "    \"answer\": \"Blue\",\n",
       "    \"assessment_status\": \"incorrect\",\n",
       "    \"assessment_comment\": \"The correct color of an apple is usually red or green.\"\n",
       "}</pre>"
      ],
      "text/plain": [
       "<IPython.core.display.HTML object>"
      ]
     },
     "metadata": {},
     "output_type": "display_data"
    },
    {
     "data": {
      "text/html": [
       "<pre>{\n",
       "    \"question\": \"What is the color of an apple?\",\n",
       "    \"answer\": \"Blue\",\n",
       "    \"assessment_status\": \"incorrect\",\n",
       "    \"assessment_comment\": \"The correct color of an apple is usually red or green.\"\n",
       "}</pre>"
      ],
      "text/plain": [
       "<IPython.core.display.HTML object>"
      ]
     },
     "metadata": {},
     "output_type": "display_data"
    },
    {
     "data": {
      "text/html": [
       "<pre>{\n",
       "    \"question\": \"What is the color of an apple?\",\n",
       "    \"answer\": \"Blue\",\n",
       "    \"assessment_status\": \"incorrect\",\n",
       "    \"assessment_comment\": \"The correct color of an apple is usually red or green.\"\n",
       "}</pre>"
      ],
      "text/plain": [
       "<IPython.core.display.HTML object>"
      ]
     },
     "metadata": {},
     "output_type": "display_data"
    },
    {
     "data": {
      "text/html": [
       "<pre>{\n",
       "    \"question\": \"What is the color of an apple?\",\n",
       "    \"answer\": \"Blue\",\n",
       "    \"assessment_status\": \"incorrect\",\n",
       "    \"assessment_comment\": \"The correct color of an apple is usually red or green.\"\n",
       "}</pre>"
      ],
      "text/plain": [
       "<IPython.core.display.HTML object>"
      ]
     },
     "metadata": {},
     "output_type": "display_data"
    },
    {
     "data": {
      "text/html": [
       "<pre>{\n",
       "    \"question\": \"What is the color of an apple?\",\n",
       "    \"answer\": \"Blue\",\n",
       "    \"assessment_status\": \"incorrect\",\n",
       "    \"assessment_comment\": \"The correct color of an apple is usually red or green.\"\n",
       "}</pre>"
      ],
      "text/plain": [
       "<IPython.core.display.HTML object>"
      ]
     },
     "metadata": {},
     "output_type": "display_data"
    },
    {
     "data": {
      "text/html": [
       "<pre>{\n",
       "    \"question\": \"What is the color of an apple?\",\n",
       "    \"answer\": \"Blue\",\n",
       "    \"assessment_status\": \"incorrect\",\n",
       "    \"assessment_comment\": \"The correct color of an apple is usually red or green.\"\n",
       "}</pre>"
      ],
      "text/plain": [
       "<IPython.core.display.HTML object>"
      ]
     },
     "metadata": {},
     "output_type": "display_data"
    },
    {
     "data": {
      "text/html": [
       "<pre>{\n",
       "    \"question\": \"What is the color of an apple?\",\n",
       "    \"answer\": \"Blue\",\n",
       "    \"assessment_status\": \"incorrect\",\n",
       "    \"assessment_comment\": \"The correct color of an apple is usually red or green.\"\n",
       "}</pre>"
      ],
      "text/plain": [
       "<IPython.core.display.HTML object>"
      ]
     },
     "metadata": {},
     "output_type": "display_data"
    },
    {
     "data": {
      "text/html": [
       "<pre>{\n",
       "    \"question\": \"What is the color of an apple?\",\n",
       "    \"answer\": \"Blue\",\n",
       "    \"assessment_status\": \"incorrect\",\n",
       "    \"assessment_comment\": \"The correct color of an apple is usually red or green.\"\n",
       "}</pre>"
      ],
      "text/plain": [
       "<IPython.core.display.HTML object>"
      ]
     },
     "metadata": {},
     "output_type": "display_data"
    },
    {
     "data": {
      "text/html": [
       "<pre>{\n",
       "    \"question\": \"What is the color of an apple?\",\n",
       "    \"answer\": \"Blue\",\n",
       "    \"assessment_status\": \"incorrect\",\n",
       "    \"assessment_comment\": \"The correct color of an apple is usually red or green.\"\n",
       "}</pre>"
      ],
      "text/plain": [
       "<IPython.core.display.HTML object>"
      ]
     },
     "metadata": {},
     "output_type": "display_data"
    }
   ],
   "source": [
    "# Possible assessment statuses\n",
    "class Status(str, Enum):\n",
    "    correct = \"correct\"\n",
    "    incorrect = \"incorrect\"\n",
    "\n",
    "# We will use this to model the output of our LLM\n",
    "class QAAssessment(BaseModel):\n",
    "    question: str = Field(..., description=\"Question\")\n",
    "    answer: str = Field(..., description=\"Answer\")\n",
    "    assessment_status: Status = Field(..., description=\"Assessment status\")\n",
    "    assessment_comment: str\n",
    "\n",
    "# Let's do a 10 cycle test to assess how stable is the result\n",
    "for i in range(10):\n",
    "    pydtest: QAAssessment = openai.ChatCompletion.create(\n",
    "        model=\"gpt-3.5-turbo-0613\",\n",
    "        temperature=0,\n",
    "        response_model=QAAssessment,\n",
    "        messages=[\n",
    "            {\"role\": \"system\", \"content\": \"You are an assisstant that assesses if the Human knows the colors of fruits.\"},\n",
    "            {\"role\": \"assistant\", \"content\": \"What is the color of an apple?\"},\n",
    "            {\"role\": \"user\", \"content\": \"Blue\"},\n",
    "        ]\n",
    "    )\n",
    "\n",
    "    json_response = pydtest.model_dump_json()\n",
    "    json_pretty_print(json_response)"
   ]
  },
  {
   "cell_type": "markdown",
   "id": "24c19d7a",
   "metadata": {},
   "source": [
    "**As you can see instead of just getting a text answer from AI, we are getting a data structure that we can use in our AI app logic.**\n",
    "\n",
    "**Now, what if we want to give user another chance before giving final assessment?**"
   ]
  },
  {
   "cell_type": "code",
   "execution_count": 9,
   "id": "176faf5c",
   "metadata": {},
   "outputs": [
    {
     "name": "stdout",
     "output_type": "stream",
     "text": [
      "\n",
      "\n",
      "Round 1\n",
      "Attempt 1\n"
     ]
    },
    {
     "data": {
      "text/html": [
       "<pre>{\n",
       "    \"question\": \"What is the color of an apple?\",\n",
       "    \"answer\": \"Red\",\n",
       "    \"assessment_status\": \"correct_final\",\n",
       "    \"assessment_comment\": \"\"\n",
       "}</pre>"
      ],
      "text/plain": [
       "<IPython.core.display.HTML object>"
      ]
     },
     "metadata": {},
     "output_type": "display_data"
    },
    {
     "name": "stdout",
     "output_type": "stream",
     "text": [
      "\n",
      "\n",
      "Round 2\n",
      "Attempt 1\n"
     ]
    },
    {
     "data": {
      "text/html": [
       "<pre>{\n",
       "    \"question\": \"What is the color of an apple?\",\n",
       "    \"answer\": \"Purple\",\n",
       "    \"assessment_status\": \"incorrect_preliminary\",\n",
       "    \"assessment_comment\": \"The color of an apple is not purple.\"\n",
       "}</pre>"
      ],
      "text/plain": [
       "<IPython.core.display.HTML object>"
      ]
     },
     "metadata": {},
     "output_type": "display_data"
    },
    {
     "name": "stdout",
     "output_type": "stream",
     "text": [
      "Attempt 2\n"
     ]
    },
    {
     "data": {
      "text/html": [
       "<pre>{\n",
       "    \"question\": \"What is the color of an apple?\",\n",
       "    \"answer\": \"Blue\",\n",
       "    \"assessment_status\": \"incorrect_preliminary\",\n",
       "    \"assessment_comment\": \"The correct color of an apple is red or green.\"\n",
       "}</pre>"
      ],
      "text/plain": [
       "<IPython.core.display.HTML object>"
      ]
     },
     "metadata": {},
     "output_type": "display_data"
    },
    {
     "name": "stdout",
     "output_type": "stream",
     "text": [
      "Attempt 3\n"
     ]
    },
    {
     "data": {
      "text/html": [
       "<pre>{\n",
       "    \"question\": \"What is the color of an apple?\",\n",
       "    \"answer\": \"Blue\",\n",
       "    \"assessment_status\": \"incorrect_final\",\n",
       "    \"assessment_comment\": \"The correct color of an apple is red or green.\"\n",
       "}</pre>"
      ],
      "text/plain": [
       "<IPython.core.display.HTML object>"
      ]
     },
     "metadata": {},
     "output_type": "display_data"
    },
    {
     "name": "stdout",
     "output_type": "stream",
     "text": [
      "\n",
      "\n",
      "Round 3\n",
      "Attempt 1\n"
     ]
    },
    {
     "data": {
      "text/html": [
       "<pre>{\n",
       "    \"question\": \"What is the color of an apple?\",\n",
       "    \"answer\": \"Red\",\n",
       "    \"assessment_status\": \"correct_final\",\n",
       "    \"assessment_comment\": \"\"\n",
       "}</pre>"
      ],
      "text/plain": [
       "<IPython.core.display.HTML object>"
      ]
     },
     "metadata": {},
     "output_type": "display_data"
    },
    {
     "name": "stdout",
     "output_type": "stream",
     "text": [
      "\n",
      "\n",
      "Round 4\n",
      "Attempt 1\n"
     ]
    },
    {
     "data": {
      "text/html": [
       "<pre>{\n",
       "    \"question\": \"What is the color of an apple?\",\n",
       "    \"answer\": \"Red\",\n",
       "    \"assessment_status\": \"correct_final\",\n",
       "    \"assessment_comment\": \"\"\n",
       "}</pre>"
      ],
      "text/plain": [
       "<IPython.core.display.HTML object>"
      ]
     },
     "metadata": {},
     "output_type": "display_data"
    },
    {
     "name": "stdout",
     "output_type": "stream",
     "text": [
      "\n",
      "\n",
      "Round 5\n",
      "Attempt 1\n"
     ]
    },
    {
     "data": {
      "text/html": [
       "<pre>{\n",
       "    \"question\": \"What is the color of an apple?\",\n",
       "    \"answer\": \"Purple\",\n",
       "    \"assessment_status\": \"incorrect_preliminary\",\n",
       "    \"assessment_comment\": \"The color of an apple is not purple.\"\n",
       "}</pre>"
      ],
      "text/plain": [
       "<IPython.core.display.HTML object>"
      ]
     },
     "metadata": {},
     "output_type": "display_data"
    },
    {
     "name": "stdout",
     "output_type": "stream",
     "text": [
      "Attempt 2\n"
     ]
    },
    {
     "data": {
      "text/html": [
       "<pre>{\n",
       "    \"question\": \"What is the color of an apple?\",\n",
       "    \"answer\": \"Purple\",\n",
       "    \"assessment_status\": \"incorrect_preliminary\",\n",
       "    \"assessment_comment\": \"The correct color of an apple is red or green.\"\n",
       "}</pre>"
      ],
      "text/plain": [
       "<IPython.core.display.HTML object>"
      ]
     },
     "metadata": {},
     "output_type": "display_data"
    },
    {
     "name": "stdout",
     "output_type": "stream",
     "text": [
      "Attempt 3\n"
     ]
    },
    {
     "data": {
      "text/html": [
       "<pre>{\n",
       "    \"question\": \"What is the color of an apple?\",\n",
       "    \"answer\": \"Purple\",\n",
       "    \"assessment_status\": \"incorrect_final\",\n",
       "    \"assessment_comment\": \"The correct color of an apple is red or green.\"\n",
       "}</pre>"
      ],
      "text/plain": [
       "<IPython.core.display.HTML object>"
      ]
     },
     "metadata": {},
     "output_type": "display_data"
    },
    {
     "name": "stdout",
     "output_type": "stream",
     "text": [
      "\n",
      "\n",
      "Round 6\n",
      "Attempt 1\n"
     ]
    },
    {
     "data": {
      "text/html": [
       "<pre>{\n",
       "    \"question\": \"What is the color of an apple?\",\n",
       "    \"answer\": \"Purple\",\n",
       "    \"assessment_status\": \"incorrect_preliminary\",\n",
       "    \"assessment_comment\": \"The color of an apple is not purple.\"\n",
       "}</pre>"
      ],
      "text/plain": [
       "<IPython.core.display.HTML object>"
      ]
     },
     "metadata": {},
     "output_type": "display_data"
    },
    {
     "name": "stdout",
     "output_type": "stream",
     "text": [
      "Attempt 2\n"
     ]
    },
    {
     "data": {
      "text/html": [
       "<pre>{\n",
       "    \"question\": \"What is the color of an apple?\",\n",
       "    \"answer\": \"Purple\",\n",
       "    \"assessment_status\": \"incorrect_preliminary\",\n",
       "    \"assessment_comment\": \"The correct color of an apple is red or green.\"\n",
       "}</pre>"
      ],
      "text/plain": [
       "<IPython.core.display.HTML object>"
      ]
     },
     "metadata": {},
     "output_type": "display_data"
    },
    {
     "name": "stdout",
     "output_type": "stream",
     "text": [
      "Attempt 3\n"
     ]
    },
    {
     "data": {
      "text/html": [
       "<pre>{\n",
       "    \"question\": \"What is the color of an apple?\",\n",
       "    \"answer\": \"Purple\",\n",
       "    \"assessment_status\": \"incorrect_final\",\n",
       "    \"assessment_comment\": \"The correct color of an apple is red or green.\"\n",
       "}</pre>"
      ],
      "text/plain": [
       "<IPython.core.display.HTML object>"
      ]
     },
     "metadata": {},
     "output_type": "display_data"
    },
    {
     "name": "stdout",
     "output_type": "stream",
     "text": [
      "\n",
      "\n",
      "Round 7\n",
      "Attempt 1\n"
     ]
    },
    {
     "data": {
      "text/html": [
       "<pre>{\n",
       "    \"question\": \"What is the color of an apple?\",\n",
       "    \"answer\": \"Red\",\n",
       "    \"assessment_status\": \"correct_final\",\n",
       "    \"assessment_comment\": \"\"\n",
       "}</pre>"
      ],
      "text/plain": [
       "<IPython.core.display.HTML object>"
      ]
     },
     "metadata": {},
     "output_type": "display_data"
    },
    {
     "name": "stdout",
     "output_type": "stream",
     "text": [
      "\n",
      "\n",
      "Round 8\n",
      "Attempt 1\n"
     ]
    },
    {
     "data": {
      "text/html": [
       "<pre>{\n",
       "    \"question\": \"What is the color of an apple?\",\n",
       "    \"answer\": \"Purple\",\n",
       "    \"assessment_status\": \"incorrect_preliminary\",\n",
       "    \"assessment_comment\": \"The color of an apple is not purple.\"\n",
       "}</pre>"
      ],
      "text/plain": [
       "<IPython.core.display.HTML object>"
      ]
     },
     "metadata": {},
     "output_type": "display_data"
    },
    {
     "name": "stdout",
     "output_type": "stream",
     "text": [
      "Attempt 2\n"
     ]
    },
    {
     "data": {
      "text/html": [
       "<pre>{\n",
       "    \"question\": \"What is the color of an apple?\",\n",
       "    \"answer\": \"Blue\",\n",
       "    \"assessment_status\": \"incorrect_preliminary\",\n",
       "    \"assessment_comment\": \"The correct color of an apple is red or green.\"\n",
       "}</pre>"
      ],
      "text/plain": [
       "<IPython.core.display.HTML object>"
      ]
     },
     "metadata": {},
     "output_type": "display_data"
    },
    {
     "name": "stdout",
     "output_type": "stream",
     "text": [
      "Attempt 3\n"
     ]
    },
    {
     "data": {
      "text/html": [
       "<pre>{\n",
       "    \"question\": \"What is the color of an apple?\",\n",
       "    \"answer\": \"Blue\",\n",
       "    \"assessment_status\": \"incorrect_final\",\n",
       "    \"assessment_comment\": \"The correct color of an apple is red or green.\"\n",
       "}</pre>"
      ],
      "text/plain": [
       "<IPython.core.display.HTML object>"
      ]
     },
     "metadata": {},
     "output_type": "display_data"
    },
    {
     "name": "stdout",
     "output_type": "stream",
     "text": [
      "\n",
      "\n",
      "Round 9\n",
      "Attempt 1\n"
     ]
    },
    {
     "data": {
      "text/html": [
       "<pre>{\n",
       "    \"question\": \"What is the color of an apple?\",\n",
       "    \"answer\": \"Purple\",\n",
       "    \"assessment_status\": \"incorrect_preliminary\",\n",
       "    \"assessment_comment\": \"The color of an apple is not purple.\"\n",
       "}</pre>"
      ],
      "text/plain": [
       "<IPython.core.display.HTML object>"
      ]
     },
     "metadata": {},
     "output_type": "display_data"
    },
    {
     "name": "stdout",
     "output_type": "stream",
     "text": [
      "Attempt 2\n"
     ]
    },
    {
     "data": {
      "text/html": [
       "<pre>{\n",
       "    \"question\": \"What is the color of an apple?\",\n",
       "    \"answer\": \"Red\",\n",
       "    \"assessment_status\": \"correct_final\",\n",
       "    \"assessment_comment\": \"\"\n",
       "}</pre>"
      ],
      "text/plain": [
       "<IPython.core.display.HTML object>"
      ]
     },
     "metadata": {},
     "output_type": "display_data"
    },
    {
     "name": "stdout",
     "output_type": "stream",
     "text": [
      "\n",
      "\n",
      "Round 10\n",
      "Attempt 1\n"
     ]
    },
    {
     "data": {
      "text/html": [
       "<pre>{\n",
       "    \"question\": \"What is the color of an apple?\",\n",
       "    \"answer\": \"Blue\",\n",
       "    \"assessment_status\": \"incorrect_preliminary\",\n",
       "    \"assessment_comment\": \"The color of an apple is not blue.\"\n",
       "}</pre>"
      ],
      "text/plain": [
       "<IPython.core.display.HTML object>"
      ]
     },
     "metadata": {},
     "output_type": "display_data"
    },
    {
     "name": "stdout",
     "output_type": "stream",
     "text": [
      "Attempt 2\n"
     ]
    },
    {
     "data": {
      "text/html": [
       "<pre>{\n",
       "    \"question\": \"What is the color of an apple?\",\n",
       "    \"answer\": \"Purple\",\n",
       "    \"assessment_status\": \"incorrect_preliminary\",\n",
       "    \"assessment_comment\": \"The correct color of an apple is red or green.\"\n",
       "}</pre>"
      ],
      "text/plain": [
       "<IPython.core.display.HTML object>"
      ]
     },
     "metadata": {},
     "output_type": "display_data"
    },
    {
     "name": "stdout",
     "output_type": "stream",
     "text": [
      "Attempt 3\n"
     ]
    },
    {
     "data": {
      "text/html": [
       "<pre>{\n",
       "    \"question\": \"What is the color of an apple?\",\n",
       "    \"answer\": \"Purple\",\n",
       "    \"assessment_status\": \"incorrect_final\",\n",
       "    \"assessment_comment\": \"The correct color of an apple is red or green.\"\n",
       "}</pre>"
      ],
      "text/plain": [
       "<IPython.core.display.HTML object>"
      ]
     },
     "metadata": {},
     "output_type": "display_data"
    }
   ],
   "source": [
    "import random\n",
    "\n",
    "# Now we have more possible assessment statuses\n",
    "class Status(str, Enum):\n",
    "    correct_preliminary = \"correct_preliminary\"\n",
    "    incorrect_preliminary = \"incorrect_preliminary\"\n",
    "    correct_final = \"correct_final\"\n",
    "    incorrect_final = \"incorrect_final\"\n",
    "\n",
    "class QAAssessment(BaseModel):\n",
    "    question: str = Field(..., description=\"Question\")\n",
    "    answer: str = Field(..., description=\"Answer\")\n",
    "    assessment_status: Status = Field(..., description=\"Assessment status\")\n",
    "    assessment_comment: str\n",
    "\n",
    "\n",
    "answers = [\"Blue\", \"Purple\", \"Red\"]\n",
    "\n",
    "\n",
    "\n",
    "for i in range(10):\n",
    "    print(f\"\\n\\nRound {i+1}\")\n",
    "\n",
    "    messages = [\n",
    "        {\"role\": \"system\", \"content\": \"You are an assisstant that assesses if the Human knows the colors of fruits. If the answer is incorrect, you ask the question once again. You do this 3 times and after that you give your final assessment. If the answer is correct, you give final assessment.\"},\n",
    "        {\"role\": \"assistant\", \"content\": \"What is the color of an apple?\"},\n",
    "        {\"role\": \"user\", \"content\": random.choice(answers)},\n",
    "    ]    \n",
    "    \n",
    "    final_assessment = 0\n",
    "\n",
    "    j = 0\n",
    "    while not final_assessment:\n",
    "        print(f\"Attempt {j+1}\")\n",
    "    \n",
    "        pydtest: QAAssessment = openai.ChatCompletion.create(\n",
    "            model=\"gpt-3.5-turbo-0613\",\n",
    "            temperature=0,\n",
    "            response_model=QAAssessment,\n",
    "            messages=messages\n",
    "        )\n",
    "\n",
    "        json_response = pydtest.model_dump_json()\n",
    "        json_pretty_print(json_response)\n",
    "\n",
    "        if pydtest.assessment_status == Status.incorrect_preliminary or pydtest.assessment_status == Status.correct_preliminary:\n",
    "            messages.append({\"role\": \"assistant\", \"content\": \"What is the color of an apple?\"})\n",
    "            messages.append({\"role\": \"user\", \"content\": random.choice(answers)})\n",
    "        else:\n",
    "            final_assessment = 1\n",
    "        \n",
    "        j += 1\n"
   ]
  },
  {
   "cell_type": "markdown",
   "id": "373d0dd2",
   "metadata": {},
   "source": [
    "**Works great!**\n",
    "\n",
    "**Now, let's make our assessment logic even more complex!**"
   ]
  },
  {
   "cell_type": "code",
   "execution_count": 10,
   "id": "9ddcab67",
   "metadata": {},
   "outputs": [
    {
     "name": "stdout",
     "output_type": "stream",
     "text": [
      "\n",
      "\n",
      "Round 1\n",
      "What are the main functions of Generative AI?content\n",
      "Attempt 1\n"
     ]
    },
    {
     "data": {
      "text/html": [
       "<pre>{\n",
       "    \"question\": \"What are the main functions of Generative AI?\",\n",
       "    \"response\": \"content\",\n",
       "    \"assessment_status\": \"incorrect_preliminary\",\n",
       "    \"assessment_comment\": \"The response does not cover all the main functions of Generative AI.\",\n",
       "    \"followup_question\": \"Can you think of any other functions of Generative AI?\"\n",
       "}</pre>"
      ],
      "text/plain": [
       "<IPython.core.display.HTML object>"
      ]
     },
     "metadata": {},
     "output_type": "display_data"
    },
    {
     "name": "stdout",
     "output_type": "stream",
     "text": [
      "Can you think of any other functions of Generative AI?idk\n",
      "Attempt 2\n"
     ]
    },
    {
     "data": {
      "text/html": [
       "<pre>{\n",
       "    \"question\": \"What are the main functions of Generative AI?\",\n",
       "    \"response\": \"content\",\n",
       "    \"assessment_status\": \"incorrect_preliminary\",\n",
       "    \"assessment_comment\": \"The response does not cover all the main functions of Generative AI.\",\n",
       "    \"followup_question\": \"Can you think of any other functions of Generative AI?\"\n",
       "}</pre>"
      ],
      "text/plain": [
       "<IPython.core.display.HTML object>"
      ]
     },
     "metadata": {},
     "output_type": "display_data"
    },
    {
     "name": "stdout",
     "output_type": "stream",
     "text": [
      "Can you think of any other functions of Generative AI?whatever\n",
      "Attempt 3\n"
     ]
    },
    {
     "data": {
      "text/html": [
       "<pre>{\n",
       "    \"question\": \"What are the main functions of Generative AI?\",\n",
       "    \"response\": \"content, whatever\",\n",
       "    \"assessment_status\": \"incorrect_final\",\n",
       "    \"assessment_comment\": \"The response does not cover all the main functions of Generative AI.\",\n",
       "    \"followup_question\": \"Can you try again and think of any other functions of Generative AI?\"\n",
       "}</pre>"
      ],
      "text/plain": [
       "<IPython.core.display.HTML object>"
      ]
     },
     "metadata": {},
     "output_type": "display_data"
    },
    {
     "name": "stdout",
     "output_type": "stream",
     "text": [
      "\n",
      "\n",
      "Round 2\n",
      "What are the main functions of Generative AI?wood\n",
      "Attempt 1\n"
     ]
    },
    {
     "data": {
      "text/html": [
       "<pre>{\n",
       "    \"question\": \"What are the main functions of Generative AI?\",\n",
       "    \"response\": \"wood\",\n",
       "    \"assessment_status\": \"incorrect_preliminary\",\n",
       "    \"assessment_comment\": \"The response does not provide any information about the main functions of Generative AI.\",\n",
       "    \"followup_question\": \"Can you please provide more information about the main functions of Generative AI?\"\n",
       "}</pre>"
      ],
      "text/plain": [
       "<IPython.core.display.HTML object>"
      ]
     },
     "metadata": {},
     "output_type": "display_data"
    },
    {
     "name": "stdout",
     "output_type": "stream",
     "text": [
      "Can you please provide more information about the main functions of Generative AI?table\n",
      "Attempt 2\n"
     ]
    },
    {
     "data": {
      "text/html": [
       "<pre>{\n",
       "    \"question\": \"What are the main functions of Generative AI?\",\n",
       "    \"response\": \"wood table\",\n",
       "    \"assessment_status\": \"incorrect_preliminary\",\n",
       "    \"assessment_comment\": \"The response does not cover all the main functions of Generative AI.\",\n",
       "    \"followup_question\": \"Can you provide more information about the main functions of Generative AI?\"\n",
       "}</pre>"
      ],
      "text/plain": [
       "<IPython.core.display.HTML object>"
      ]
     },
     "metadata": {},
     "output_type": "display_data"
    },
    {
     "name": "stdout",
     "output_type": "stream",
     "text": [
      "Can you provide more information about the main functions of Generative AI?goo\n",
      "Attempt 3\n"
     ]
    },
    {
     "data": {
      "text/html": [
       "<pre>{\n",
       "    \"question\": \"What are the main functions of Generative AI?\",\n",
       "    \"response\": \"goo\",\n",
       "    \"assessment_status\": \"incorrect_preliminary\",\n",
       "    \"assessment_comment\": \"The response does not provide any information about the main functions of Generative AI.\",\n",
       "    \"followup_question\": \"Can you please provide more information about the main functions of Generative AI?\"\n",
       "}</pre>"
      ],
      "text/plain": [
       "<IPython.core.display.HTML object>"
      ]
     },
     "metadata": {},
     "output_type": "display_data"
    },
    {
     "name": "stdout",
     "output_type": "stream",
     "text": [
      "Can you please provide more information about the main functions of Generative AI?whatever\n",
      "Attempt 4\n"
     ]
    },
    {
     "data": {
      "text/html": [
       "<pre>{\n",
       "    \"question\": \"What are the main functions of Generative AI?\",\n",
       "    \"response\": \"whatever\",\n",
       "    \"assessment_status\": \"incorrect_final\",\n",
       "    \"assessment_comment\": \"The response does not cover any of the main functions of Generative AI.\",\n",
       "    \"followup_question\": \"Can you please provide more information about the main functions of Generative AI?\"\n",
       "}</pre>"
      ],
      "text/plain": [
       "<IPython.core.display.HTML object>"
      ]
     },
     "metadata": {},
     "output_type": "display_data"
    },
    {
     "name": "stdout",
     "output_type": "stream",
     "text": [
      "\n",
      "\n",
      "Round 3\n",
      "What are the main functions of Generative AI?                    1. Content Creation                     2. Data Augmentation                     3. Pattern Discovery and Simulation\n",
      "Attempt 1\n"
     ]
    },
    {
     "data": {
      "text/html": [
       "<pre>{\n",
       "    \"question\": \"What are the main functions of Generative AI?\",\n",
       "    \"response\": \"1. Content Creation\\n2. Data Augmentation\\n3. Pattern Discovery and Simulation\",\n",
       "    \"assessment_status\": \"correct_final\",\n",
       "    \"assessment_comment\": \"\",\n",
       "    \"followup_question\": \"\"\n",
       "}</pre>"
      ],
      "text/plain": [
       "<IPython.core.display.HTML object>"
      ]
     },
     "metadata": {},
     "output_type": "display_data"
    },
    {
     "name": "stdout",
     "output_type": "stream",
     "text": [
      "\n",
      "\n",
      "Round 4\n",
      "What are the main functions of Generative AI?exit\n",
      "Attempt 1\n"
     ]
    },
    {
     "data": {
      "text/html": [
       "<pre>{\n",
       "    \"question\": \"What are the main functions of Generative AI?\",\n",
       "    \"response\": \"exit\",\n",
       "    \"assessment_status\": \"incorrect_final\",\n",
       "    \"assessment_comment\": \"The response does not provide any information about the main functions of Generative AI.\",\n",
       "    \"followup_question\": \"\"\n",
       "}</pre>"
      ],
      "text/plain": [
       "<IPython.core.display.HTML object>"
      ]
     },
     "metadata": {},
     "output_type": "display_data"
    }
   ],
   "source": [
    "import random\n",
    "\n",
    "\n",
    "class Status(str, Enum):\n",
    "    correct_preliminary = \"correct_preliminary\"\n",
    "    incorrect_preliminary = \"incorrect_preliminary\"\n",
    "    correct_final = \"correct_final\"\n",
    "    incorrect_final = \"incorrect_final\"\n",
    "\n",
    "class QAAssessment(BaseModel):\n",
    "    question: str = Field(..., description=\"Question\")\n",
    "    response: str = Field(..., description=\"Combined answer consisting of all the responses of the Human\")\n",
    "    assessment_status: Status = Field(..., description=\"Assessment status\")\n",
    "    assessment_comment: str\n",
    "    followup_question: str = Field(..., description=\"A question we ask the Human if the assessment status is not final yet\")\n",
    "\n",
    "\n",
    "question = \"What are the main functions of Generative AI?\"\n",
    "\n",
    "\n",
    "for i in range(10):\n",
    "    print(f\"\\n\\nRound {i+1}\")\n",
    "\n",
    "    response = input(question)\n",
    "    \n",
    "    messages = [\n",
    "        {\n",
    "            \"role\": \"system\",\n",
    "            \"content\": f\"\"\"\n",
    "                    Act as an assisstant that assesses Human's responses to the Question against the Ideal Answer.\n",
    "                    \n",
    "                    The Question is: {question}\n",
    "                    The Ideal Answer is:\n",
    "                    ```\n",
    "                    1. Content Creation\n",
    "                    2. Data Augmentation\n",
    "                    3. Pattern Discovery and Simulation\n",
    "                    ```\n",
    "                    \n",
    "                    Assessment process:\n",
    "                    If the response covers all the points from the Ideal Answer, your assessment is correct_final.\n",
    "                    Otherwise - you ask a follow-up question.\n",
    "                    If after 2 Human's reponses, the combined responses don't cover all the points from the Ideal Answer, your assessment is incorrect_final. Otherwise - correct_final.\n",
    "                \"\"\"\n",
    "        },\n",
    "        {\"role\": \"assistant\", \"content\": question},\n",
    "        {\"role\": \"user\", \"content\": response},\n",
    "    ]    \n",
    "    \n",
    "    final_assessment = 0\n",
    "\n",
    "    j = 0\n",
    "    while not final_assessment:\n",
    "        print(f\"Attempt {j+1}\")\n",
    "    \n",
    "        pydtest: QAAssessment = openai.ChatCompletion.create(\n",
    "            model=\"gpt-3.5-turbo-0613\",\n",
    "            temperature=0,\n",
    "            response_model=QAAssessment,\n",
    "            messages=messages\n",
    "        )\n",
    "\n",
    "        json_response = pydtest.model_dump_json()\n",
    "        json_pretty_print(json_response)\n",
    "        \n",
    "\n",
    "        if pydtest.assessment_status == Status.incorrect_preliminary or pydtest.assessment_status == Status.correct_preliminary:\n",
    "            response = input(pydtest.followup_question)\n",
    "            if response == \"exit\":\n",
    "                break\n",
    "\n",
    "            messages.append({\"role\": \"assistant\", \"content\": pydtest.followup_question})\n",
    "            messages.append({\"role\": \"user\", \"content\": response})\n",
    "        else:\n",
    "            final_assessment = 1\n",
    "        \n",
    "        j += 1\n",
    "\n",
    "    if response == \"exit\":\n",
    "        break\n"
   ]
  },
  {
   "cell_type": "markdown",
   "id": "b51e65d1",
   "metadata": {},
   "source": [
    "**Amazing, now we can use this as a module in survey-type LLM apps!**"
   ]
  }
 ],
 "metadata": {
  "kernelspec": {
   "display_name": "Python 3 (ipykernel)",
   "language": "python",
   "name": "python3"
  },
  "language_info": {
   "codemirror_mode": {
    "name": "ipython",
    "version": 3
   },
   "file_extension": ".py",
   "mimetype": "text/x-python",
   "name": "python",
   "nbconvert_exporter": "python",
   "pygments_lexer": "ipython3",
   "version": "3.11.3"
  }
 },
 "nbformat": 4,
 "nbformat_minor": 5
}
